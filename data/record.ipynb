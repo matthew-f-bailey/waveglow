{
 "cells": [
  {
   "cell_type": "code",
   "execution_count": 34,
   "metadata": {},
   "outputs": [],
   "source": [
    "from scipy.io import wavfile\n",
    "import noisereduce as nr\n",
    "import pyaudio\n",
    "import keyboard\n",
    "import os"
   ]
  },
  {
   "cell_type": "code",
   "execution_count": 48,
   "metadata": {},
   "outputs": [],
   "source": [
    "class Recorder:\n",
    "    def __init__(self):\n",
    "        self.interface = pyaudio.PyAudio()\n",
    "        self.chunk = 1024      # Each chunk will consist of 1024 samples\n",
    "        self.sample_format = pyaudio.paInt16      # 16 bits per sample\n",
    "        self.channels = 1      # Number of audio channels\n",
    "        self.fs = 44100        # Record at 44100 samples per second\n",
    "        self.time_in_seconds = 0.25\n",
    "        self.filepath = self.get_filepath()\n",
    "\n",
    "    def get_filepath(self):\n",
    "        for i in range(1, 350):\n",
    "            name = f\"{i}.wav\"\n",
    "            if os.path.isfile(name):\n",
    "                continue\n",
    "            return name\n",
    "\n",
    "    def record(self):\n",
    "        #Open a Stream with the values we just defined\n",
    "        stream = p.open(\n",
    "            format=self.sample_format,\n",
    "            channels = self.channels,\n",
    "            rate = self.fs,\n",
    "            frames_per_buffer = self.chunk,\n",
    "            input = True\n",
    "        )\n",
    "        frames = []  # Initialize array to store frames\n",
    "\n",
    "        # Stop recording on space or interupt\n",
    "        try:\n",
    "            while True:\n",
    "            # Store data in chunks for 3 seconds\n",
    "                if keyboard.is_pressed(\" \"):\n",
    "                        break\n",
    "                for i in range(0, int(fs / chunk * time_in_seconds)):\n",
    "                    data = stream.read(self.chunk)\n",
    "                    frames.append(data)\n",
    "        except KeyboardInterrupt:\n",
    "            pass\n",
    "\n",
    "        # Stop and close the Stream and PyAudio\n",
    "        stream.stop_stream()\n",
    "        stream.close()\n",
    "        p.terminate()\n",
    "\n",
    "        # Open and Set the data of the WAV file\n",
    "        file = wave.open(self.filepath, 'wb')\n",
    "        file.setnchannels(self.channels)\n",
    "        file.setsampwidth(self.interface.get_sample_size(self.sample_format))\n",
    "        file.setframerate(self.fs)\n",
    "        #Write and Close the File\n",
    "        file.writeframes(b''.join(frames))\n",
    "        file.close()\n",
    "\n",
    "    def denoise(self):\n",
    "        # load data\n",
    "        rate, data = wavfile.read(self.filepath)\n",
    "        # perform noise reduction\n",
    "        reduced_noise = nr.reduce_noise(y=data, sr=rate)\n",
    "        wavfile.write(self.filepath, rate, reduced_noise)"
   ]
  },
  {
   "cell_type": "code",
   "execution_count": 355,
   "metadata": {},
   "outputs": [],
   "source": [
    "recorder = Recorder()\n",
    "recorder.record()\n",
    "recorder.denoise()"
   ]
  },
  {
   "cell_type": "code",
   "execution_count": null,
   "metadata": {},
   "outputs": [],
   "source": []
  }
 ],
 "metadata": {
  "kernelspec": {
   "display_name": "Python 3.8.0 ('DS')",
   "language": "python",
   "name": "python3"
  },
  "language_info": {
   "codemirror_mode": {
    "name": "ipython",
    "version": 3
   },
   "file_extension": ".py",
   "mimetype": "text/x-python",
   "name": "python",
   "nbconvert_exporter": "python",
   "pygments_lexer": "ipython3",
   "version": "3.8.0"
  },
  "orig_nbformat": 4,
  "vscode": {
   "interpreter": {
    "hash": "051d10de7a63195d3b90ca6c086cd89425cbfaf1dc499c43c0ed1916274eb34c"
   }
  }
 },
 "nbformat": 4,
 "nbformat_minor": 2
}
